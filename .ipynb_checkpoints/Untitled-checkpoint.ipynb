{
 "cells": [
  {
   "cell_type": "code",
   "execution_count": 146,
   "id": "648b4d66-42f1-4e70-bbd4-950d75f1be7e",
   "metadata": {},
   "outputs": [],
   "source": [
    "import requests\n",
    "from bs4 import BeautifulSoup\n",
    "import pandas as pd\n",
    "\n",
    "url = \"https://fbref.com/en/squads/b8fd03ef/2022-2023/Manchester-City-Stats\"\n",
    "\n",
    "response = requests.get(url)\n",
    "soup = BeautifulSoup(response.content, 'html.parser')\n",
    "\n",
    "# Znajdowanie tabeli z zawodnikami\n",
    "players_table = soup.find('table', {'id': 'stats_standard_9'})\n",
    "\n",
    "# Lista do przechowywania danych o zawodnikach\n",
    "players_data = []\n",
    "\n",
    "# Iterowanie przez wiersze tabeli, aby zebrać dane zawodników\n",
    "for row in players_table.find('tbody').find_all('tr'):\n",
    "    player_name = row.find('th', {'data-stat': 'player'}).text.strip()\n",
    "    player_link = row.find('th', {'data-stat': 'player'}).find('a')\n",
    "    \n",
    "    if player_link:\n",
    "        player_id = player_link['href'].split('/')[3]\n",
    "        players_data.append({'player_id': player_id, 'player_name': player_name})\n",
    "\n",
    "# Tworzenie DataFrame z zebranych danych\n",
    "df = pd.DataFrame(players_data)\n"
   ]
  },
  {
   "cell_type": "code",
   "execution_count": 210,
   "id": "01bb7d15-aba9-44d3-b791-66a982b536ba",
   "metadata": {
    "tags": []
   },
   "outputs": [],
   "source": [
    "file_name= 'Inżynieria Danych- Big Data/Projekt końcowy/player_names_dict.json'\n",
    "with open(file_name, 'r', encoding='utf-8') as file:\n",
    "    player_dict = json.load(file)"
   ]
  },
  {
   "cell_type": "code",
   "execution_count": 211,
   "id": "5e0fc8fa-cab4-47bd-9eb6-94a24c0ef651",
   "metadata": {
    "tags": []
   },
   "outputs": [],
   "source": [
    "class Player:\n",
    "    \n",
    "    def __init__(self, player_id, player_dict, player_name):\n",
    "        self.player_id = player_id\n",
    "        self.player_dict = player_dict\n",
    "        self.player_name = player_name\n",
    "    \n",
    "    def fetch_player_data(self):\n",
    "        try:\n",
    "            # Próba pobrania danych\n",
    "            df_list = pd.read_html(f'https://fbref.com/en/players/{self.player_id}/{self.player_name}')\n",
    "            df_list = df_list[-9:]  # Ostatnie 9 DataFrame'ów\n",
    "            keys = list(self.player_dict.keys())\n",
    "\n",
    "            # Upewnienie się, że mamy odpowiednią liczbę DataFrame'ów\n",
    "            if len(keys) != len(df_list):\n",
    "                raise ValueError(\"Liczba kluczy i DataFrame'ów nie jest równa.\")\n",
    "\n",
    "            # Tworzenie słownika DataFrame'ów\n",
    "            dict_dfs = {keys[i]: df for i, df in enumerate(df_list)}\n",
    "\n",
    "            # Przypisywanie MultiIndex do każdego DataFrame'u\n",
    "            for key in keys:\n",
    "                if key in dict_dfs and len(self.player_dict[key]) == len(dict_dfs[key].columns):\n",
    "                    player_dict_tup = [tuple(col) for col in self.player_dict[key]]\n",
    "                    multi_index = pd.MultiIndex.from_tuples(player_dict_tup)\n",
    "                    dict_dfs[key].columns = multi_index\n",
    "                else:\n",
    "                    raise ValueError(f\"Nie można przypisać MultiIndex do DataFrame'u dla klucza '{key}'.\")\n",
    "\n",
    "            return dict_dfs\n",
    "\n",
    "        except Exception as e:\n",
    "            # Obsługa wyjątków, np. problemów z połączeniem internetowym, błędów w danych itp.\n",
    "            print(f\"Wystąpił błąd: {e}\")\n",
    "            return None\n",
    "\n"
   ]
  },
  {
   "cell_type": "code",
   "execution_count": 220,
   "id": "179134e6-3a67-49b8-a6fc-04be09f7a78c",
   "metadata": {
    "tags": []
   },
   "outputs": [],
   "source": [
    "kyle_walker= Player('86dd77d1',player_dict,'Kyle-Walker')"
   ]
  },
  {
   "cell_type": "code",
   "execution_count": 221,
   "id": "85f5ebff-5133-431a-bb2e-f9cebd2f6799",
   "metadata": {
    "tags": []
   },
   "outputs": [],
   "source": [
    "kyle_walker= kyle_walker.fetch_player_data()"
   ]
  },
  {
   "cell_type": "code",
   "execution_count": 223,
   "id": "f4a5b0be-0dd8-42e9-8b69-d2cdb45eeea5",
   "metadata": {
    "tags": []
   },
   "outputs": [
    {
     "data": {
      "text/html": [
       "<div>\n",
       "<style scoped>\n",
       "    .dataframe tbody tr th:only-of-type {\n",
       "        vertical-align: middle;\n",
       "    }\n",
       "\n",
       "    .dataframe tbody tr th {\n",
       "        vertical-align: top;\n",
       "    }\n",
       "\n",
       "    .dataframe thead tr th {\n",
       "        text-align: left;\n",
       "    }\n",
       "</style>\n",
       "<table border=\"1\" class=\"dataframe\">\n",
       "  <thead>\n",
       "    <tr>\n",
       "      <th></th>\n",
       "      <th colspan=\"7\" halign=\"left\">General</th>\n",
       "      <th colspan=\"3\" halign=\"left\">Playing Time</th>\n",
       "      <th>...</th>\n",
       "      <th colspan=\"9\" halign=\"left\">Per 90 Minutes</th>\n",
       "      <th>General</th>\n",
       "    </tr>\n",
       "    <tr>\n",
       "      <th></th>\n",
       "      <th>Season</th>\n",
       "      <th>Age</th>\n",
       "      <th>Squad</th>\n",
       "      <th>Country</th>\n",
       "      <th>Comp</th>\n",
       "      <th>LgRank</th>\n",
       "      <th>MP</th>\n",
       "      <th>Starts</th>\n",
       "      <th>Min</th>\n",
       "      <th>90s</th>\n",
       "      <th>...</th>\n",
       "      <th>Ast</th>\n",
       "      <th>G+A</th>\n",
       "      <th>G-PK</th>\n",
       "      <th>G+A-PK</th>\n",
       "      <th>xG</th>\n",
       "      <th>xAG</th>\n",
       "      <th>xG+xAG</th>\n",
       "      <th>npxG</th>\n",
       "      <th>npxG+xAG</th>\n",
       "      <th>Matches</th>\n",
       "    </tr>\n",
       "  </thead>\n",
       "  <tbody>\n",
       "    <tr>\n",
       "      <th>0</th>\n",
       "      <td>2021-2022</td>\n",
       "      <td>16</td>\n",
       "      <td>Manchester City</td>\n",
       "      <td>eng ENG</td>\n",
       "      <td>Jr. PL2 — Div. 1</td>\n",
       "      <td>1st</td>\n",
       "      <td>6</td>\n",
       "      <td>3</td>\n",
       "      <td>312</td>\n",
       "      <td>3.5</td>\n",
       "      <td>...</td>\n",
       "      <td>0.00</td>\n",
       "      <td>0.29</td>\n",
       "      <td>0.29</td>\n",
       "      <td>0.29</td>\n",
       "      <td>NaN</td>\n",
       "      <td>NaN</td>\n",
       "      <td>NaN</td>\n",
       "      <td>NaN</td>\n",
       "      <td>NaN</td>\n",
       "      <td>Matches</td>\n",
       "    </tr>\n",
       "    <tr>\n",
       "      <th>1</th>\n",
       "      <td>2022-2023</td>\n",
       "      <td>17</td>\n",
       "      <td>Manchester City</td>\n",
       "      <td>eng ENG</td>\n",
       "      <td>Jr. PL2 — Div. 1</td>\n",
       "      <td>1st</td>\n",
       "      <td>2</td>\n",
       "      <td>2</td>\n",
       "      <td>180</td>\n",
       "      <td>2.0</td>\n",
       "      <td>...</td>\n",
       "      <td>1.00</td>\n",
       "      <td>1.00</td>\n",
       "      <td>0.00</td>\n",
       "      <td>1.00</td>\n",
       "      <td>NaN</td>\n",
       "      <td>NaN</td>\n",
       "      <td>NaN</td>\n",
       "      <td>NaN</td>\n",
       "      <td>NaN</td>\n",
       "      <td>Matches</td>\n",
       "    </tr>\n",
       "    <tr>\n",
       "      <th>2</th>\n",
       "      <td>2022-2023</td>\n",
       "      <td>17</td>\n",
       "      <td>Manchester City</td>\n",
       "      <td>eng ENG</td>\n",
       "      <td>1. Premier League</td>\n",
       "      <td>1st</td>\n",
       "      <td>14</td>\n",
       "      <td>10</td>\n",
       "      <td>903</td>\n",
       "      <td>10.0</td>\n",
       "      <td>...</td>\n",
       "      <td>0.00</td>\n",
       "      <td>0.00</td>\n",
       "      <td>0.00</td>\n",
       "      <td>0.00</td>\n",
       "      <td>0.02</td>\n",
       "      <td>0.15</td>\n",
       "      <td>0.17</td>\n",
       "      <td>0.02</td>\n",
       "      <td>0.17</td>\n",
       "      <td>Matches</td>\n",
       "    </tr>\n",
       "    <tr>\n",
       "      <th>3</th>\n",
       "      <td>2023-2024</td>\n",
       "      <td>18</td>\n",
       "      <td>Manchester City</td>\n",
       "      <td>eng ENG</td>\n",
       "      <td>1. Premier League</td>\n",
       "      <td>4th</td>\n",
       "      <td>8</td>\n",
       "      <td>4</td>\n",
       "      <td>341</td>\n",
       "      <td>3.8</td>\n",
       "      <td>...</td>\n",
       "      <td>0.00</td>\n",
       "      <td>0.26</td>\n",
       "      <td>0.26</td>\n",
       "      <td>0.26</td>\n",
       "      <td>0.08</td>\n",
       "      <td>0.12</td>\n",
       "      <td>0.20</td>\n",
       "      <td>0.08</td>\n",
       "      <td>0.20</td>\n",
       "      <td>Matches</td>\n",
       "    </tr>\n",
       "    <tr>\n",
       "      <th>4</th>\n",
       "      <td>2 Seasons</td>\n",
       "      <td>2 Seasons</td>\n",
       "      <td>1 Club</td>\n",
       "      <td>NaN</td>\n",
       "      <td>1 League</td>\n",
       "      <td>NaN</td>\n",
       "      <td>22</td>\n",
       "      <td>14</td>\n",
       "      <td>1244</td>\n",
       "      <td>13.8</td>\n",
       "      <td>...</td>\n",
       "      <td>0.00</td>\n",
       "      <td>0.07</td>\n",
       "      <td>0.07</td>\n",
       "      <td>0.07</td>\n",
       "      <td>0.04</td>\n",
       "      <td>0.14</td>\n",
       "      <td>0.18</td>\n",
       "      <td>0.04</td>\n",
       "      <td>0.18</td>\n",
       "      <td>NaN</td>\n",
       "    </tr>\n",
       "    <tr>\n",
       "      <th>5</th>\n",
       "      <td>NaN</td>\n",
       "      <td>NaN</td>\n",
       "      <td>NaN</td>\n",
       "      <td>Country</td>\n",
       "      <td>Comp</td>\n",
       "      <td>LgRank</td>\n",
       "      <td>MP</td>\n",
       "      <td>Starts</td>\n",
       "      <td>Min</td>\n",
       "      <td>90s</td>\n",
       "      <td>...</td>\n",
       "      <td>Ast</td>\n",
       "      <td>G+A</td>\n",
       "      <td>G-PK</td>\n",
       "      <td>G+A-PK</td>\n",
       "      <td>xG</td>\n",
       "      <td>xAG</td>\n",
       "      <td>xG+xAG</td>\n",
       "      <td>npxG</td>\n",
       "      <td>npxG+xAG</td>\n",
       "      <td>Matches</td>\n",
       "    </tr>\n",
       "    <tr>\n",
       "      <th>6</th>\n",
       "      <td>Manchester City (2 Seasons)</td>\n",
       "      <td>Manchester City (2 Seasons)</td>\n",
       "      <td>Manchester City (2 Seasons)</td>\n",
       "      <td>NaN</td>\n",
       "      <td>1 League</td>\n",
       "      <td>NaN</td>\n",
       "      <td>22</td>\n",
       "      <td>14</td>\n",
       "      <td>1244</td>\n",
       "      <td>13.8</td>\n",
       "      <td>...</td>\n",
       "      <td>0.00</td>\n",
       "      <td>0.07</td>\n",
       "      <td>0.07</td>\n",
       "      <td>0.07</td>\n",
       "      <td>0.04</td>\n",
       "      <td>0.14</td>\n",
       "      <td>0.18</td>\n",
       "      <td>0.04</td>\n",
       "      <td>0.18</td>\n",
       "      <td>NaN</td>\n",
       "    </tr>\n",
       "    <tr>\n",
       "      <th>7</th>\n",
       "      <td>Manchester City (1 Season)</td>\n",
       "      <td>Manchester City (1 Season)</td>\n",
       "      <td>Manchester City (1 Season)</td>\n",
       "      <td>NaN</td>\n",
       "      <td>1 League</td>\n",
       "      <td>NaN</td>\n",
       "      <td>6</td>\n",
       "      <td>3</td>\n",
       "      <td>312</td>\n",
       "      <td>3.5</td>\n",
       "      <td>...</td>\n",
       "      <td>0.00</td>\n",
       "      <td>0.29</td>\n",
       "      <td>0.29</td>\n",
       "      <td>0.29</td>\n",
       "      <td>NaN</td>\n",
       "      <td>NaN</td>\n",
       "      <td>NaN</td>\n",
       "      <td>NaN</td>\n",
       "      <td>NaN</td>\n",
       "      <td>NaN</td>\n",
       "    </tr>\n",
       "    <tr>\n",
       "      <th>8</th>\n",
       "      <td>Manchester City (1 Season)</td>\n",
       "      <td>Manchester City (1 Season)</td>\n",
       "      <td>Manchester City (1 Season)</td>\n",
       "      <td>NaN</td>\n",
       "      <td>1 League</td>\n",
       "      <td>NaN</td>\n",
       "      <td>2</td>\n",
       "      <td>2</td>\n",
       "      <td>180</td>\n",
       "      <td>2.0</td>\n",
       "      <td>...</td>\n",
       "      <td>1.00</td>\n",
       "      <td>1.00</td>\n",
       "      <td>0.00</td>\n",
       "      <td>1.00</td>\n",
       "      <td>NaN</td>\n",
       "      <td>NaN</td>\n",
       "      <td>NaN</td>\n",
       "      <td>NaN</td>\n",
       "      <td>NaN</td>\n",
       "      <td>NaN</td>\n",
       "    </tr>\n",
       "    <tr>\n",
       "      <th>9</th>\n",
       "      <td>NaN</td>\n",
       "      <td>NaN</td>\n",
       "      <td>NaN</td>\n",
       "      <td>NaN</td>\n",
       "      <td>NaN</td>\n",
       "      <td>NaN</td>\n",
       "      <td>NaN</td>\n",
       "      <td>NaN</td>\n",
       "      <td>NaN</td>\n",
       "      <td>NaN</td>\n",
       "      <td>...</td>\n",
       "      <td>NaN</td>\n",
       "      <td>NaN</td>\n",
       "      <td>NaN</td>\n",
       "      <td>NaN</td>\n",
       "      <td>NaN</td>\n",
       "      <td>NaN</td>\n",
       "      <td>NaN</td>\n",
       "      <td>NaN</td>\n",
       "      <td>NaN</td>\n",
       "      <td>NaN</td>\n",
       "    </tr>\n",
       "    <tr>\n",
       "      <th>10</th>\n",
       "      <td>Premier League (2 Seasons)</td>\n",
       "      <td>Premier League (2 Seasons)</td>\n",
       "      <td>Premier League (2 Seasons)</td>\n",
       "      <td>NaN</td>\n",
       "      <td>NaN</td>\n",
       "      <td>NaN</td>\n",
       "      <td>22</td>\n",
       "      <td>14</td>\n",
       "      <td>1244</td>\n",
       "      <td>13.8</td>\n",
       "      <td>...</td>\n",
       "      <td>0.00</td>\n",
       "      <td>0.07</td>\n",
       "      <td>0.07</td>\n",
       "      <td>0.07</td>\n",
       "      <td>0.04</td>\n",
       "      <td>0.14</td>\n",
       "      <td>0.18</td>\n",
       "      <td>0.04</td>\n",
       "      <td>0.18</td>\n",
       "      <td>NaN</td>\n",
       "    </tr>\n",
       "    <tr>\n",
       "      <th>11</th>\n",
       "      <td>PL2 — Div. 1 (2 Seasons)</td>\n",
       "      <td>PL2 — Div. 1 (2 Seasons)</td>\n",
       "      <td>PL2 — Div. 1 (2 Seasons)</td>\n",
       "      <td>NaN</td>\n",
       "      <td>NaN</td>\n",
       "      <td>NaN</td>\n",
       "      <td>8</td>\n",
       "      <td>5</td>\n",
       "      <td>492</td>\n",
       "      <td>5.5</td>\n",
       "      <td>...</td>\n",
       "      <td>0.37</td>\n",
       "      <td>0.55</td>\n",
       "      <td>0.18</td>\n",
       "      <td>0.55</td>\n",
       "      <td>NaN</td>\n",
       "      <td>NaN</td>\n",
       "      <td>NaN</td>\n",
       "      <td>NaN</td>\n",
       "      <td>NaN</td>\n",
       "      <td>NaN</td>\n",
       "    </tr>\n",
       "  </tbody>\n",
       "</table>\n",
       "<p>12 rows × 36 columns</p>\n",
       "</div>"
      ],
      "text/plain": [
       "                        General                               \\\n",
       "                         Season                          Age   \n",
       "0                     2021-2022                           16   \n",
       "1                     2022-2023                           17   \n",
       "2                     2022-2023                           17   \n",
       "3                     2023-2024                           18   \n",
       "4                     2 Seasons                    2 Seasons   \n",
       "5                           NaN                          NaN   \n",
       "6   Manchester City (2 Seasons)  Manchester City (2 Seasons)   \n",
       "7    Manchester City (1 Season)   Manchester City (1 Season)   \n",
       "8    Manchester City (1 Season)   Manchester City (1 Season)   \n",
       "9                           NaN                          NaN   \n",
       "10   Premier League (2 Seasons)   Premier League (2 Seasons)   \n",
       "11     PL2 — Div. 1 (2 Seasons)     PL2 — Div. 1 (2 Seasons)   \n",
       "\n",
       "                                                                          \\\n",
       "                          Squad  Country               Comp  LgRank   MP   \n",
       "0               Manchester City  eng ENG   Jr. PL2 — Div. 1     1st    6   \n",
       "1               Manchester City  eng ENG   Jr. PL2 — Div. 1     1st    2   \n",
       "2               Manchester City  eng ENG  1. Premier League     1st   14   \n",
       "3               Manchester City  eng ENG  1. Premier League     4th    8   \n",
       "4                        1 Club      NaN           1 League     NaN   22   \n",
       "5                           NaN  Country               Comp  LgRank   MP   \n",
       "6   Manchester City (2 Seasons)      NaN           1 League     NaN   22   \n",
       "7    Manchester City (1 Season)      NaN           1 League     NaN    6   \n",
       "8    Manchester City (1 Season)      NaN           1 League     NaN    2   \n",
       "9                           NaN      NaN                NaN     NaN  NaN   \n",
       "10   Premier League (2 Seasons)      NaN                NaN     NaN   22   \n",
       "11     PL2 — Div. 1 (2 Seasons)      NaN                NaN     NaN    8   \n",
       "\n",
       "   Playing Time              ... Per 90 Minutes                            \\\n",
       "         Starts   Min   90s  ...            Ast   G+A  G-PK  G+A-PK    xG   \n",
       "0             3   312   3.5  ...           0.00  0.29  0.29    0.29   NaN   \n",
       "1             2   180   2.0  ...           1.00  1.00  0.00    1.00   NaN   \n",
       "2            10   903  10.0  ...           0.00  0.00  0.00    0.00  0.02   \n",
       "3             4   341   3.8  ...           0.00  0.26  0.26    0.26  0.08   \n",
       "4            14  1244  13.8  ...           0.00  0.07  0.07    0.07  0.04   \n",
       "5        Starts   Min   90s  ...            Ast   G+A  G-PK  G+A-PK    xG   \n",
       "6            14  1244  13.8  ...           0.00  0.07  0.07    0.07  0.04   \n",
       "7             3   312   3.5  ...           0.00  0.29  0.29    0.29   NaN   \n",
       "8             2   180   2.0  ...           1.00  1.00  0.00    1.00   NaN   \n",
       "9           NaN   NaN   NaN  ...            NaN   NaN   NaN     NaN   NaN   \n",
       "10           14  1244  13.8  ...           0.00  0.07  0.07    0.07  0.04   \n",
       "11            5   492   5.5  ...           0.37  0.55  0.18    0.55   NaN   \n",
       "\n",
       "                                  General  \n",
       "     xAG  xG+xAG  npxG  npxG+xAG  Matches  \n",
       "0    NaN     NaN   NaN       NaN  Matches  \n",
       "1    NaN     NaN   NaN       NaN  Matches  \n",
       "2   0.15    0.17  0.02      0.17  Matches  \n",
       "3   0.12    0.20  0.08      0.20  Matches  \n",
       "4   0.14    0.18  0.04      0.18      NaN  \n",
       "5    xAG  xG+xAG  npxG  npxG+xAG  Matches  \n",
       "6   0.14    0.18  0.04      0.18      NaN  \n",
       "7    NaN     NaN   NaN       NaN      NaN  \n",
       "8    NaN     NaN   NaN       NaN      NaN  \n",
       "9    NaN     NaN   NaN       NaN      NaN  \n",
       "10  0.14    0.18  0.04      0.18      NaN  \n",
       "11   NaN     NaN   NaN       NaN      NaN  \n",
       "\n",
       "[12 rows x 36 columns]"
      ]
     },
     "execution_count": 223,
     "metadata": {},
     "output_type": "execute_result"
    }
   ],
   "source": [
    "kyle_walker['Standard Stats']"
   ]
  },
  {
   "cell_type": "code",
   "execution_count": 200,
   "id": "4939c58b-79d7-4d85-adc1-283f3c689ea0",
   "metadata": {
    "tags": []
   },
   "outputs": [],
   "source": [
    "df= pd.read_html(f'https://fbref.com/en/players/b57e066e/Rico-Lewis')\n"
   ]
  },
  {
   "cell_type": "code",
   "execution_count": 201,
   "id": "e879c515-361d-43cc-a597-7c1961121e85",
   "metadata": {
    "tags": []
   },
   "outputs": [],
   "source": [
    "nazwa_pliku= 'Inżynieria Danych- Big Data/Projekt końcowy/player_names_dict.json'\n",
    "with open(nazwa_pliku, 'r', encoding='utf-8') as file:\n",
    "    slownik = json.load(file)"
   ]
  },
  {
   "cell_type": "code",
   "execution_count": 202,
   "id": "517c783b-4e9a-4a50-8d7e-38401af8e0eb",
   "metadata": {
    "tags": []
   },
   "outputs": [],
   "source": [
    "df= df[-9:]"
   ]
  },
  {
   "cell_type": "code",
   "execution_count": 203,
   "id": "e4e95849-ab1d-410d-aa01-1a26a87b31b7",
   "metadata": {
    "tags": []
   },
   "outputs": [],
   "source": [
    "keys= list(slownik.keys())\n",
    "dict_dfs= {keys: df[i] for i, keys in enumerate(keys)}\n",
    "\n"
   ]
  },
  {
   "cell_type": "code",
   "execution_count": 205,
   "id": "c9815d2d-f256-4366-bead-043b2f1695fc",
   "metadata": {
    "tags": []
   },
   "outputs": [],
   "source": [
    "slownik_tup= [tuple(i) for i in slownik['Standard Stats']]\n",
    "multi_index = pd.MultiIndex.from_tuples(slownik_tup)\n",
    "dict_dfs['Standard Stats'].columns= multi_index"
   ]
  },
  {
   "cell_type": "code",
   "execution_count": 198,
   "id": "288dfef6-5cab-4c61-b5f5-abcd3b3e18a0",
   "metadata": {
    "tags": []
   },
   "outputs": [],
   "source": [
    "slownik_tup= [tuple(i) for i in slownik['Standard Stats']]\n"
   ]
  },
  {
   "cell_type": "code",
   "execution_count": 207,
   "id": "5fe03d05-9e76-4a24-91cf-52f2e4b5056e",
   "metadata": {
    "tags": []
   },
   "outputs": [
    {
     "data": {
      "text/html": [
       "<div>\n",
       "<style scoped>\n",
       "    .dataframe tbody tr th:only-of-type {\n",
       "        vertical-align: middle;\n",
       "    }\n",
       "\n",
       "    .dataframe tbody tr th {\n",
       "        vertical-align: top;\n",
       "    }\n",
       "\n",
       "    .dataframe thead th {\n",
       "        text-align: right;\n",
       "    }\n",
       "</style>\n",
       "<table border=\"1\" class=\"dataframe\">\n",
       "  <thead>\n",
       "    <tr style=\"text-align: right;\">\n",
       "      <th></th>\n",
       "      <th>Season</th>\n",
       "      <th>Age</th>\n",
       "      <th>Squad</th>\n",
       "      <th>Country</th>\n",
       "      <th>Comp</th>\n",
       "      <th>LgRank</th>\n",
       "      <th>MP</th>\n",
       "      <th>Matches</th>\n",
       "    </tr>\n",
       "  </thead>\n",
       "  <tbody>\n",
       "    <tr>\n",
       "      <th>0</th>\n",
       "      <td>2021-2022</td>\n",
       "      <td>16</td>\n",
       "      <td>Manchester City</td>\n",
       "      <td>eng ENG</td>\n",
       "      <td>Jr. PL2 — Div. 1</td>\n",
       "      <td>1st</td>\n",
       "      <td>6</td>\n",
       "      <td>Matches</td>\n",
       "    </tr>\n",
       "    <tr>\n",
       "      <th>1</th>\n",
       "      <td>2022-2023</td>\n",
       "      <td>17</td>\n",
       "      <td>Manchester City</td>\n",
       "      <td>eng ENG</td>\n",
       "      <td>Jr. PL2 — Div. 1</td>\n",
       "      <td>1st</td>\n",
       "      <td>2</td>\n",
       "      <td>Matches</td>\n",
       "    </tr>\n",
       "    <tr>\n",
       "      <th>2</th>\n",
       "      <td>2022-2023</td>\n",
       "      <td>17</td>\n",
       "      <td>Manchester City</td>\n",
       "      <td>eng ENG</td>\n",
       "      <td>1. Premier League</td>\n",
       "      <td>1st</td>\n",
       "      <td>14</td>\n",
       "      <td>Matches</td>\n",
       "    </tr>\n",
       "    <tr>\n",
       "      <th>3</th>\n",
       "      <td>2023-2024</td>\n",
       "      <td>18</td>\n",
       "      <td>Manchester City</td>\n",
       "      <td>eng ENG</td>\n",
       "      <td>1. Premier League</td>\n",
       "      <td>4th</td>\n",
       "      <td>8</td>\n",
       "      <td>Matches</td>\n",
       "    </tr>\n",
       "    <tr>\n",
       "      <th>4</th>\n",
       "      <td>2 Seasons</td>\n",
       "      <td>2 Seasons</td>\n",
       "      <td>1 Club</td>\n",
       "      <td>NaN</td>\n",
       "      <td>1 League</td>\n",
       "      <td>NaN</td>\n",
       "      <td>22</td>\n",
       "      <td>NaN</td>\n",
       "    </tr>\n",
       "    <tr>\n",
       "      <th>5</th>\n",
       "      <td>NaN</td>\n",
       "      <td>NaN</td>\n",
       "      <td>NaN</td>\n",
       "      <td>Country</td>\n",
       "      <td>Comp</td>\n",
       "      <td>LgRank</td>\n",
       "      <td>MP</td>\n",
       "      <td>Matches</td>\n",
       "    </tr>\n",
       "    <tr>\n",
       "      <th>6</th>\n",
       "      <td>Manchester City (2 Seasons)</td>\n",
       "      <td>Manchester City (2 Seasons)</td>\n",
       "      <td>Manchester City (2 Seasons)</td>\n",
       "      <td>NaN</td>\n",
       "      <td>1 League</td>\n",
       "      <td>NaN</td>\n",
       "      <td>22</td>\n",
       "      <td>NaN</td>\n",
       "    </tr>\n",
       "    <tr>\n",
       "      <th>7</th>\n",
       "      <td>Manchester City (1 Season)</td>\n",
       "      <td>Manchester City (1 Season)</td>\n",
       "      <td>Manchester City (1 Season)</td>\n",
       "      <td>NaN</td>\n",
       "      <td>1 League</td>\n",
       "      <td>NaN</td>\n",
       "      <td>6</td>\n",
       "      <td>NaN</td>\n",
       "    </tr>\n",
       "    <tr>\n",
       "      <th>8</th>\n",
       "      <td>Manchester City (1 Season)</td>\n",
       "      <td>Manchester City (1 Season)</td>\n",
       "      <td>Manchester City (1 Season)</td>\n",
       "      <td>NaN</td>\n",
       "      <td>1 League</td>\n",
       "      <td>NaN</td>\n",
       "      <td>2</td>\n",
       "      <td>NaN</td>\n",
       "    </tr>\n",
       "    <tr>\n",
       "      <th>9</th>\n",
       "      <td>NaN</td>\n",
       "      <td>NaN</td>\n",
       "      <td>NaN</td>\n",
       "      <td>NaN</td>\n",
       "      <td>NaN</td>\n",
       "      <td>NaN</td>\n",
       "      <td>NaN</td>\n",
       "      <td>NaN</td>\n",
       "    </tr>\n",
       "    <tr>\n",
       "      <th>10</th>\n",
       "      <td>Premier League (2 Seasons)</td>\n",
       "      <td>Premier League (2 Seasons)</td>\n",
       "      <td>Premier League (2 Seasons)</td>\n",
       "      <td>NaN</td>\n",
       "      <td>NaN</td>\n",
       "      <td>NaN</td>\n",
       "      <td>22</td>\n",
       "      <td>NaN</td>\n",
       "    </tr>\n",
       "    <tr>\n",
       "      <th>11</th>\n",
       "      <td>PL2 — Div. 1 (2 Seasons)</td>\n",
       "      <td>PL2 — Div. 1 (2 Seasons)</td>\n",
       "      <td>PL2 — Div. 1 (2 Seasons)</td>\n",
       "      <td>NaN</td>\n",
       "      <td>NaN</td>\n",
       "      <td>NaN</td>\n",
       "      <td>8</td>\n",
       "      <td>NaN</td>\n",
       "    </tr>\n",
       "  </tbody>\n",
       "</table>\n",
       "</div>"
      ],
      "text/plain": [
       "                         Season                          Age  \\\n",
       "0                     2021-2022                           16   \n",
       "1                     2022-2023                           17   \n",
       "2                     2022-2023                           17   \n",
       "3                     2023-2024                           18   \n",
       "4                     2 Seasons                    2 Seasons   \n",
       "5                           NaN                          NaN   \n",
       "6   Manchester City (2 Seasons)  Manchester City (2 Seasons)   \n",
       "7    Manchester City (1 Season)   Manchester City (1 Season)   \n",
       "8    Manchester City (1 Season)   Manchester City (1 Season)   \n",
       "9                           NaN                          NaN   \n",
       "10   Premier League (2 Seasons)   Premier League (2 Seasons)   \n",
       "11     PL2 — Div. 1 (2 Seasons)     PL2 — Div. 1 (2 Seasons)   \n",
       "\n",
       "                          Squad  Country               Comp  LgRank   MP  \\\n",
       "0               Manchester City  eng ENG   Jr. PL2 — Div. 1     1st    6   \n",
       "1               Manchester City  eng ENG   Jr. PL2 — Div. 1     1st    2   \n",
       "2               Manchester City  eng ENG  1. Premier League     1st   14   \n",
       "3               Manchester City  eng ENG  1. Premier League     4th    8   \n",
       "4                        1 Club      NaN           1 League     NaN   22   \n",
       "5                           NaN  Country               Comp  LgRank   MP   \n",
       "6   Manchester City (2 Seasons)      NaN           1 League     NaN   22   \n",
       "7    Manchester City (1 Season)      NaN           1 League     NaN    6   \n",
       "8    Manchester City (1 Season)      NaN           1 League     NaN    2   \n",
       "9                           NaN      NaN                NaN     NaN  NaN   \n",
       "10   Premier League (2 Seasons)      NaN                NaN     NaN   22   \n",
       "11     PL2 — Div. 1 (2 Seasons)      NaN                NaN     NaN    8   \n",
       "\n",
       "    Matches  \n",
       "0   Matches  \n",
       "1   Matches  \n",
       "2   Matches  \n",
       "3   Matches  \n",
       "4       NaN  \n",
       "5   Matches  \n",
       "6       NaN  \n",
       "7       NaN  \n",
       "8       NaN  \n",
       "9       NaN  \n",
       "10      NaN  \n",
       "11      NaN  "
      ]
     },
     "execution_count": 207,
     "metadata": {},
     "output_type": "execute_result"
    }
   ],
   "source": [
    "dict_dfs['Standard Stats']['General']"
   ]
  },
  {
   "cell_type": "code",
   "execution_count": null,
   "id": "7e3f6335-8ccb-4d7d-bc4b-606e312adad0",
   "metadata": {},
   "outputs": [],
   "source": [
    "# Lista DataFrame'ów\n",
    "lista_dataframeow = [df1, df2, df3, ...]\n",
    "\n",
    "# Predefiniowane klucze\n",
    "klucze = ['nazwa1', 'nazwa2', 'nazwa3', ...]\n",
    "\n",
    "# Sprawdzanie, czy liczba kluczy zgadza się z liczbą DataFrame'ów\n",
    "if len(lista_dataframeow) != len(klucze):\n",
    "    print(\"Błąd: liczba kluczy nie zgadza się z liczbą DataFrame'ów.\")\n",
    "else:\n",
    "    # Tworzenie słownika z DataFrame'ami\n",
    "    slownik_dataframeow = dict(zip(klucze, lista_dataframeow))\n",
    "\n",
    "    # Wyświetlenie słownika\n",
    "    for key, value in slownik_dataframeow.items():\n",
    "        print(f\"{key}: {value}\")\n"
   ]
  },
  {
   "cell_type": "code",
   "execution_count": 28,
   "id": "6f058f0f-16ce-4d7c-aced-5c66c94299d2",
   "metadata": {
    "tags": []
   },
   "outputs": [],
   "source": [
    "table_names= ['Standard Stats',\n",
    " 'Shooting',\n",
    " 'Passing',\n",
    " 'Pass Types',\n",
    " 'Goal and Shot Creation',\n",
    " 'Defensive Actions',\n",
    " 'Possession',\n",
    " 'Playing Time',\n",
    " 'Miscellaneous Stats']"
   ]
  },
  {
   "cell_type": "code",
   "execution_count": 54,
   "id": "a440f233-a277-4568-a455-7ef8ab4e8190",
   "metadata": {
    "tags": []
   },
   "outputs": [
    {
     "name": "stdout",
     "output_type": "stream",
     "text": [
      "False\n"
     ]
    }
   ],
   "source": [
    "print(isinstance(df[1].index, pd.MultiIndex))"
   ]
  },
  {
   "cell_type": "code",
   "execution_count": 64,
   "id": "d3f17070-a9bc-4175-a0b3-d42ee6c3c42c",
   "metadata": {
    "tags": []
   },
   "outputs": [],
   "source": [
    "example= df[1]"
   ]
  },
  {
   "cell_type": "code",
   "execution_count": 59,
   "id": "580a0231-4084-43b1-9896-e92570ada5c5",
   "metadata": {
    "tags": []
   },
   "outputs": [
    {
     "ename": "AttributeError",
     "evalue": "'DataFrame' object has no attribute 'Age'",
     "output_type": "error",
     "traceback": [
      "\u001b[0;31m---------------------------------------------------------------------------\u001b[0m",
      "\u001b[0;31mAttributeError\u001b[0m                            Traceback (most recent call last)",
      "\u001b[0;32m/var/folders/lg/dqrfsgd11p1bnm82y9g576380000gn/T/ipykernel_2214/182247403.py\u001b[0m in \u001b[0;36m?\u001b[0;34m()\u001b[0m\n\u001b[0;32m----> 1\u001b[0;31m \u001b[0mexample\u001b[0m\u001b[0;34m.\u001b[0m\u001b[0mloc\u001b[0m\u001b[0;34m[\u001b[0m\u001b[0mexample\u001b[0m\u001b[0;34m.\u001b[0m\u001b[0mAge\u001b[0m \u001b[0;34m==\u001b[0m \u001b[0;36m20\u001b[0m\u001b[0;34m]\u001b[0m\u001b[0;34m\u001b[0m\u001b[0;34m\u001b[0m\u001b[0m\n\u001b[0m",
      "\u001b[0;32m~/anaconda3/lib/python3.11/site-packages/pandas/core/generic.py\u001b[0m in \u001b[0;36m?\u001b[0;34m(self, name)\u001b[0m\n\u001b[1;32m   5985\u001b[0m             \u001b[0;32mand\u001b[0m \u001b[0mname\u001b[0m \u001b[0;32mnot\u001b[0m \u001b[0;32min\u001b[0m \u001b[0mself\u001b[0m\u001b[0;34m.\u001b[0m\u001b[0m_accessors\u001b[0m\u001b[0;34m\u001b[0m\u001b[0;34m\u001b[0m\u001b[0m\n\u001b[1;32m   5986\u001b[0m             \u001b[0;32mand\u001b[0m \u001b[0mself\u001b[0m\u001b[0;34m.\u001b[0m\u001b[0m_info_axis\u001b[0m\u001b[0;34m.\u001b[0m\u001b[0m_can_hold_identifiers_and_holds_name\u001b[0m\u001b[0;34m(\u001b[0m\u001b[0mname\u001b[0m\u001b[0;34m)\u001b[0m\u001b[0;34m\u001b[0m\u001b[0;34m\u001b[0m\u001b[0m\n\u001b[1;32m   5987\u001b[0m         ):\n\u001b[1;32m   5988\u001b[0m             \u001b[0;32mreturn\u001b[0m \u001b[0mself\u001b[0m\u001b[0;34m[\u001b[0m\u001b[0mname\u001b[0m\u001b[0;34m]\u001b[0m\u001b[0;34m\u001b[0m\u001b[0;34m\u001b[0m\u001b[0m\n\u001b[0;32m-> 5989\u001b[0;31m         \u001b[0;32mreturn\u001b[0m \u001b[0mobject\u001b[0m\u001b[0;34m.\u001b[0m\u001b[0m__getattribute__\u001b[0m\u001b[0;34m(\u001b[0m\u001b[0mself\u001b[0m\u001b[0;34m,\u001b[0m \u001b[0mname\u001b[0m\u001b[0;34m)\u001b[0m\u001b[0;34m\u001b[0m\u001b[0;34m\u001b[0m\u001b[0m\n\u001b[0m",
      "\u001b[0;31mAttributeError\u001b[0m: 'DataFrame' object has no attribute 'Age'"
     ]
    }
   ],
   "source": [
    "example.loc[example.Age == 20]"
   ]
  },
  {
   "cell_type": "code",
   "execution_count": 81,
   "id": "871b99b1-71b0-438b-9c15-0bdb59fe890b",
   "metadata": {
    "tags": []
   },
   "outputs": [],
   "source": [
    "for i in range (0, len(df)):\n",
    "    new_columns = []\n",
    "    for col in df[i].columns:\n",
    "        if 'Unnamed' in col[0]:\n",
    "            # Jeśli kolumna ma nazwę 'Unnamed', zamień ją na 'General'\n",
    "            new_columns.append(('General', col[1]))\n",
    "        else:\n",
    "            new_columns.append(col)\n",
    "\n",
    "    df[i].columns = pd.MultiIndex.from_tuples(new_columns)"
   ]
  },
  {
   "cell_type": "code",
   "execution_count": 90,
   "id": "366baced-cdfd-4acd-8e02-370e79ae9714",
   "metadata": {
    "tags": []
   },
   "outputs": [
    {
     "data": {
      "text/plain": [
       "MultiIndex([( 'General',  'Season'),\n",
       "            ( 'General',     'Age'),\n",
       "            ( 'General',   'Squad'),\n",
       "            ( 'General', 'Country'),\n",
       "            ( 'General',    'Comp'),\n",
       "            ( 'General',  'LgRank'),\n",
       "            ( 'General',     '90s'),\n",
       "            (   'Total',     'Cmp'),\n",
       "            (   'Total',     'Att'),\n",
       "            (   'Total',    'Cmp%'),\n",
       "            (   'Total', 'TotDist'),\n",
       "            (   'Total', 'PrgDist'),\n",
       "            (   'Short',     'Cmp'),\n",
       "            (   'Short',     'Att'),\n",
       "            (   'Short',    'Cmp%'),\n",
       "            (  'Medium',     'Cmp'),\n",
       "            (  'Medium',     'Att'),\n",
       "            (  'Medium',    'Cmp%'),\n",
       "            (    'Long',     'Cmp'),\n",
       "            (    'Long',     'Att'),\n",
       "            (    'Long',    'Cmp%'),\n",
       "            ( 'General',     'Ast'),\n",
       "            ( 'General',     'xAG'),\n",
       "            ('Expected',      'xA'),\n",
       "            ('Expected',   'A-xAG'),\n",
       "            ( 'General',      'KP'),\n",
       "            ( 'General',     '1/3'),\n",
       "            ( 'General',     'PPA'),\n",
       "            ( 'General',   'CrsPA'),\n",
       "            ( 'General',    'PrgP'),\n",
       "            ( 'General', 'Matches')],\n",
       "           )"
      ]
     },
     "execution_count": 90,
     "metadata": {},
     "output_type": "execute_result"
    }
   ],
   "source": [
    "df[2].columns"
   ]
  },
  {
   "cell_type": "code",
   "execution_count": 98,
   "id": "9e5528f5-e984-4e74-946e-c1dc71f2a20c",
   "metadata": {
    "tags": []
   },
   "outputs": [],
   "source": [
    "df= df[3:]"
   ]
  },
  {
   "cell_type": "code",
   "execution_count": 109,
   "id": "bb75880d-4297-4683-a720-9ce9bf7b922b",
   "metadata": {
    "tags": []
   },
   "outputs": [],
   "source": [
    "df_cols= [i.columns for i in df] \n",
    "player_names_dict = {table_name: df[i].columns.tolist() for i, table_name in enumerate(table_names)}\n",
    "\n",
    "    "
   ]
  },
  {
   "cell_type": "code",
   "execution_count": 127,
   "id": "11687c24-742d-470c-8c72-a7c889edf4b1",
   "metadata": {
    "tags": []
   },
   "outputs": [
    {
     "name": "stdout",
     "output_type": "stream",
     "text": [
      "[('Unnamed: 0_level_0', 'Season'), ('Unnamed: 1_level_0', 'Age'), ('Unnamed: 2_level_0', 'Squad'), ('Unnamed: 3_level_0', 'Country'), ('Unnamed: 4_level_0', 'Comp'), ('Unnamed: 5_level_0', 'LgRank'), ('Unnamed: 6_level_0', '90s'), ('Total', 'Cmp'), ('Total', 'Att'), ('Total', 'Cmp%'), ('Total', 'TotDist'), ('Total', 'PrgDist'), ('Short', 'Cmp'), ('Short', 'Att'), ('Short', 'Cmp%'), ('Medium', 'Cmp'), ('Medium', 'Att'), ('Medium', 'Cmp%'), ('Long', 'Cmp'), ('Long', 'Att'), ('Long', 'Cmp%'), ('Unnamed: 21_level_0', 'Ast'), ('Unnamed: 22_level_0', 'xAG'), ('Expected', 'xA'), ('Expected', 'A-xAG'), ('Progressive_passes', 'KP'), ('Progressive_passes', '1/3'), ('Progressive_passes', 'PPA'), ('Progressive_passes', 'CrsPA'), ('Progressive_passes', 'PrgP'), ('Unnamed: 30_level_0', 'Matches')]\n"
     ]
    }
   ],
   "source": [
    "# Przykład, jak może wyglądać player_names_dict\n",
    "# player_names_dict = {'Passing': [..., ('jakas_wartosc', 'wartosc1'), ...]}\n",
    "\n",
    "# Iteracja przez ostatnie 5 tupli z listy 'Passing' w słowniku\n",
    "# i zmiana pierwszego elementu każdego tupla na 'Progressive_passes'\n",
    "zmienione_tuple = [('Progressive_passes', tup[1]) for tup in player_names_dict['Passing'][-6:-1]]\n",
    "\n",
    "# Zastąpienie ostatnich 5 tupli w liście 'Passing' nowymi wartościami\n",
    "player_names_dict['Passing'][-6:-1] = zmienione_tuple\n",
    "\n",
    "# Wyświetlenie zaktualizowanego słownika\n",
    "print(player_names_dict['Passing'])\n"
   ]
  },
  {
   "cell_type": "code",
   "execution_count": 139,
   "id": "098576de-b854-4008-8f9e-2edeaf29d493",
   "metadata": {
    "tags": []
   },
   "outputs": [
    {
     "data": {
      "text/plain": [
       "[('Unnamed: 19_level_0', 'Int'),\n",
       " ('Unnamed: 20_level_0', 'Tkl+Int'),\n",
       " ('Unnamed: 21_level_0', 'Clr'),\n",
       " ('Unnamed: 22_level_0', 'Err')]"
      ]
     },
     "execution_count": 139,
     "metadata": {},
     "output_type": "execute_result"
    }
   ],
   "source": [
    "player_names_dict['Defensive Actions'][-5:-1]"
   ]
  },
  {
   "cell_type": "code",
   "execution_count": 140,
   "id": "d07bdc64-a338-4283-85c1-d83f31197266",
   "metadata": {
    "tags": []
   },
   "outputs": [
    {
     "name": "stdout",
     "output_type": "stream",
     "text": [
      "[('Unnamed: 0_level_0', 'Season'), ('Unnamed: 1_level_0', 'Age'), ('Unnamed: 2_level_0', 'Squad'), ('Unnamed: 3_level_0', 'Country'), ('Unnamed: 4_level_0', 'Comp'), ('Unnamed: 5_level_0', 'LgRank'), ('Unnamed: 6_level_0', '90s'), ('Tackles', 'Tkl'), ('Tackles', 'TklW'), ('Tackles', 'Def 3rd'), ('Tackles', 'Mid 3rd'), ('Tackles', 'Att 3rd'), ('Challenges', 'Tkl'), ('Challenges', 'Att'), ('Challenges', 'Tkl%'), ('Challenges', 'Lost'), ('Blocks', 'Blocks'), ('Blocks', 'Sh'), ('Blocks', 'Pass'), ('Other_defensive', 'Int'), ('Other_defensive', 'Tkl+Int'), ('Other_defensive', 'Clr'), ('Other_defensive', 'Err'), ('Unnamed: 23_level_0', 'Matches')]\n"
     ]
    }
   ],
   "source": [
    "# Przykład, jak może wyglądać player_names_dict\n",
    "# player_names_dict = {'Passing': [..., ('jakas_wartosc', 'wartosc1'), ...]}\n",
    "\n",
    "# Iteracja przez ostatnie 5 tupli z listy 'Passing' w słowniku\n",
    "# i zmiana pierwszego elementu każdego tupla na 'Progressive_passes'\n",
    "zmienione_tuple = [('Other_defensive', tup[1]) for tup in player_names_dict['Defensive Actions'][-5:-1]]\n",
    "\n",
    "# Zastąpienie ostatnich 5 tupli w liście 'Passing' nowymi wartościami\n",
    "player_names_dict['Defensive Actions'][-5:-1] = zmienione_tuple\n",
    "\n",
    "# Wyświetlenie zaktualizowanego słownika\n",
    "print(player_names_dict['Defensive Actions'])\n"
   ]
  },
  {
   "cell_type": "code",
   "execution_count": 141,
   "id": "e6b66310-a203-439a-8845-31cdcbeaedf6",
   "metadata": {
    "tags": []
   },
   "outputs": [
    {
     "name": "stdout",
     "output_type": "stream",
     "text": [
      "Standard Stats: [('General', 'Season'), ('General', 'Age'), ('General', 'Squad'), ('General', 'Country'), ('General', 'Comp'), ('General', 'LgRank'), ('General', 'MP'), ('Playing Time', 'Starts'), ('Playing Time', 'Min'), ('Playing Time', '90s'), ('Performance', 'Gls'), ('Performance', 'Ast'), ('Performance', 'G+A'), ('Performance', 'G-PK'), ('Performance', 'PK'), ('Performance', 'PKatt'), ('Performance', 'CrdY'), ('Performance', 'CrdR'), ('Expected', 'xG'), ('Expected', 'npxG'), ('Expected', 'xAG'), ('Expected', 'npxG+xAG'), ('Progression', 'PrgC'), ('Progression', 'PrgP'), ('Progression', 'PrgR'), ('Per 90 Minutes', 'Gls'), ('Per 90 Minutes', 'Ast'), ('Per 90 Minutes', 'G+A'), ('Per 90 Minutes', 'G-PK'), ('Per 90 Minutes', 'G+A-PK'), ('Per 90 Minutes', 'xG'), ('Per 90 Minutes', 'xAG'), ('Per 90 Minutes', 'xG+xAG'), ('Per 90 Minutes', 'npxG'), ('Per 90 Minutes', 'npxG+xAG'), ('General', 'Matches')]\n",
      "Shooting: [('General', 'Season'), ('General', 'Age'), ('General', 'Squad'), ('General', 'Country'), ('General', 'Comp'), ('General', 'LgRank'), ('General', '90s'), ('Standard', 'Gls'), ('Standard', 'Sh'), ('Standard', 'SoT'), ('Standard', 'SoT%'), ('Standard', 'Sh/90'), ('Standard', 'SoT/90'), ('Standard', 'G/Sh'), ('Standard', 'G/SoT'), ('Standard', 'Dist'), ('Standard', 'FK'), ('Standard', 'PK'), ('Standard', 'PKatt'), ('Expected', 'xG'), ('Expected', 'npxG'), ('Expected', 'npxG/Sh'), ('Expected', 'G-xG'), ('Expected', 'np:G-xG'), ('General', 'Matches')]\n",
      "Passing: [('General', 'Season'), ('General', 'Age'), ('General', 'Squad'), ('General', 'Country'), ('General', 'Comp'), ('General', 'LgRank'), ('General', '90s'), ('Total', 'Cmp'), ('Total', 'Att'), ('Total', 'Cmp%'), ('Total', 'TotDist'), ('Total', 'PrgDist'), ('Short', 'Cmp'), ('Short', 'Att'), ('Short', 'Cmp%'), ('Medium', 'Cmp'), ('Medium', 'Att'), ('Medium', 'Cmp%'), ('Long', 'Cmp'), ('Long', 'Att'), ('Long', 'Cmp%'), ('General', 'Ast'), ('General', 'xAG'), ('Expected', 'xA'), ('Expected', 'A-xAG'), ('Progressive_passes', 'KP'), ('Progressive_passes', '1/3'), ('Progressive_passes', 'PPA'), ('Progressive_passes', 'CrsPA'), ('Progressive_passes', 'PrgP'), ('General', 'Matches')]\n",
      "Pass Types: [('General', 'Season'), ('General', 'Age'), ('General', 'Squad'), ('General', 'Country'), ('General', 'Comp'), ('General', 'LgRank'), ('General', '90s'), ('General', 'Att'), ('Pass Types', 'Live'), ('Pass Types', 'Dead'), ('Pass Types', 'FK'), ('Pass Types', 'TB'), ('Pass Types', 'Sw'), ('Pass Types', 'Crs'), ('Pass Types', 'TI'), ('Pass Types', 'CK'), ('Corner Kicks', 'In'), ('Corner Kicks', 'Out'), ('Corner Kicks', 'Str'), ('Outcomes', 'Cmp'), ('Outcomes', 'Off'), ('Outcomes', 'Blocks'), ('General', 'Matches')]\n",
      "Goal and Shot Creation: [('General', 'Season'), ('General', 'Age'), ('General', 'Squad'), ('General', 'Country'), ('General', 'Comp'), ('General', 'LgRank'), ('General', '90s'), ('SCA', 'SCA'), ('SCA', 'SCA90'), ('SCA Types', 'PassLive'), ('SCA Types', 'PassDead'), ('SCA Types', 'TO'), ('SCA Types', 'Sh'), ('SCA Types', 'Fld'), ('SCA Types', 'Def'), ('GCA', 'GCA'), ('GCA', 'GCA90'), ('GCA Types', 'PassLive'), ('GCA Types', 'PassDead'), ('GCA Types', 'TO'), ('GCA Types', 'Sh'), ('GCA Types', 'Fld'), ('GCA Types', 'Def'), ('General', 'Matches')]\n",
      "Defensive Actions: [('General', 'Season'), ('General', 'Age'), ('General', 'Squad'), ('General', 'Country'), ('General', 'Comp'), ('General', 'LgRank'), ('General', '90s'), ('Tackles', 'Tkl'), ('Tackles', 'TklW'), ('Tackles', 'Def 3rd'), ('Tackles', 'Mid 3rd'), ('Tackles', 'Att 3rd'), ('Challenges', 'Tkl'), ('Challenges', 'Att'), ('Challenges', 'Tkl%'), ('Challenges', 'Lost'), ('Blocks', 'Blocks'), ('Blocks', 'Sh'), ('Blocks', 'Pass'), ('Other_defensive', 'Int'), ('Other_defensive', 'Tkl+Int'), ('Other_defensive', 'Clr'), ('Other_defensive', 'Err'), ('General', 'Matches')]\n",
      "Possession: [('General', 'Season'), ('General', 'Age'), ('General', 'Squad'), ('General', 'Country'), ('General', 'Comp'), ('General', 'LgRank'), ('General', '90s'), ('Touches', 'Touches'), ('Touches', 'Def Pen'), ('Touches', 'Def 3rd'), ('Touches', 'Mid 3rd'), ('Touches', 'Att 3rd'), ('Touches', 'Att Pen'), ('Touches', 'Live'), ('Take-Ons', 'Att'), ('Take-Ons', 'Succ'), ('Take-Ons', 'Succ%'), ('Take-Ons', 'Tkld'), ('Take-Ons', 'Tkld%'), ('Carries', 'Carries'), ('Carries', 'TotDist'), ('Carries', 'PrgDist'), ('Carries', 'PrgC'), ('Carries', '1/3'), ('Carries', 'CPA'), ('Carries', 'Mis'), ('Carries', 'Dis'), ('Receiving', 'Rec'), ('Receiving', 'PrgR'), ('General', 'Matches')]\n",
      "Playing Time: [('General', 'Season'), ('General', 'Age'), ('General', 'Squad'), ('General', 'Country'), ('General', 'Comp'), ('General', 'LgRank'), ('General', 'MP'), ('Playing Time', 'Min'), ('Playing Time', 'Mn/MP'), ('Playing Time', 'Min%'), ('Playing Time', '90s'), ('Starts', 'Starts'), ('Starts', 'Mn/Start'), ('Starts', 'Compl'), ('Subs', 'Subs'), ('Subs', 'Mn/Sub'), ('Subs', 'unSub'), ('Team Success', 'PPM'), ('Team Success', 'onG'), ('Team Success', 'onGA'), ('Team Success', '+/-'), ('Team Success', '+/-90'), ('Team Success', 'On-Off'), ('Team Success (xG)', 'onxG'), ('Team Success (xG)', 'onxGA'), ('Team Success (xG)', 'xG+/-'), ('Team Success (xG)', 'xG+/-90'), ('Team Success (xG)', 'On-Off'), ('General', 'Matches')]\n",
      "Miscellaneous Stats: [('General', 'Season'), ('General', 'Age'), ('General', 'Squad'), ('General', 'Country'), ('General', 'Comp'), ('General', 'LgRank'), ('General', '90s'), ('Performance', 'CrdY'), ('Performance', 'CrdR'), ('Performance', '2CrdY'), ('Performance', 'Fls'), ('Performance', 'Fld'), ('Performance', 'Off'), ('Performance', 'Crs'), ('Performance', 'Int'), ('Performance', 'TklW'), ('Performance', 'PKwon'), ('Performance', 'PKcon'), ('Performance', 'OG'), ('Performance', 'Recov'), ('Aerial Duels', 'Won'), ('Aerial Duels', 'Lost'), ('Aerial Duels', 'Won%'), ('General', 'Matches')]\n"
     ]
    }
   ],
   "source": [
    "# Zakładam, że player_names_dict to Twój słownik z listami tupli jako wartościami\n",
    "\n",
    "# Iteracja przez wszystkie klucze i wartości w słowniku\n",
    "for key, tuples_list in player_names_dict.items():\n",
    "    # Zmiana 'Unnamed' na 'General' w każdym tuplu z każdej listy\n",
    "    zmienione_tuple = [('General' if 'Unnamed' in tup[0] else tup[0], tup[1]) for tup in tuples_list]\n",
    "    # Aktualizacja listy w słowniku\n",
    "    player_names_dict[key] = zmienione_tuple\n",
    "\n",
    "# Wyświetlenie zaktualizowanego słownika\n",
    "for key, value in player_names_dict.items():\n",
    "    print(f\"{key}: {value}\")\n"
   ]
  },
  {
   "cell_type": "code",
   "execution_count": 143,
   "id": "8b1e8818-83c6-4584-a81c-e3818ebb60d5",
   "metadata": {
    "tags": []
   },
   "outputs": [
    {
     "ename": "AttributeError",
     "evalue": "'dict' object has no attribute 'to_json'",
     "output_type": "error",
     "traceback": [
      "\u001b[0;31m---------------------------------------------------------------------------\u001b[0m",
      "\u001b[0;31mAttributeError\u001b[0m                            Traceback (most recent call last)",
      "Cell \u001b[0;32mIn[143], line 1\u001b[0m\n\u001b[0;32m----> 1\u001b[0m player_names_dict\u001b[38;5;241m.\u001b[39mto_json(\u001b[38;5;124m'\u001b[39m\u001b[38;5;124mplayer_names.json\u001b[39m\u001b[38;5;124m'\u001b[39m)\n",
      "\u001b[0;31mAttributeError\u001b[0m: 'dict' object has no attribute 'to_json'"
     ]
    }
   ],
   "source": [
    "player_names_dict.to_json('player_names.json')"
   ]
  },
  {
   "cell_type": "code",
   "execution_count": 144,
   "id": "c10a8b6d-5ea6-4438-9b67-8367516cfb7d",
   "metadata": {
    "tags": []
   },
   "outputs": [],
   "source": [
    "import json "
   ]
  },
  {
   "cell_type": "code",
   "execution_count": 145,
   "id": "ec4efc7e-d5a2-4681-8b25-db91dffe41e5",
   "metadata": {
    "tags": []
   },
   "outputs": [],
   "source": [
    "# Nazwa pliku, do którego chcesz zapisać słownik\n",
    "nazwa_pliku = \"player_names_dict.json\"\n",
    "\n",
    "# Zapisywanie słownika do pliku JSON\n",
    "with open(nazwa_pliku, 'w', encoding='utf-8') as file:\n",
    "    json.dump(player_names_dict, file, ensure_ascii=False, indent=4)"
   ]
  },
  {
   "cell_type": "code",
   "execution_count": null,
   "id": "83bb0818-a0ea-4470-b0de-670b6db7766b",
   "metadata": {},
   "outputs": [],
   "source": [
    "class Team:\n",
    "    def __init__ (self, team_id, team_name):\n",
    "        self.team_id= team_id\n",
    "        self.team_name= team_name\n",
    "    \n",
    "    def squad (self):\n",
    "        "
   ]
  }
 ],
 "metadata": {
  "kernelspec": {
   "display_name": "Python 3 (ipykernel)",
   "language": "python",
   "name": "python3"
  },
  "language_info": {
   "codemirror_mode": {
    "name": "ipython",
    "version": 3
   },
   "file_extension": ".py",
   "mimetype": "text/x-python",
   "name": "python",
   "nbconvert_exporter": "python",
   "pygments_lexer": "ipython3",
   "version": "3.11.5"
  }
 },
 "nbformat": 4,
 "nbformat_minor": 5
}
